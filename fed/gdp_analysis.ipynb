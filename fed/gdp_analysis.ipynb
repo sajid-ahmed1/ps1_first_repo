{
 "cells": [
  {
   "cell_type": "markdown",
   "id": "d26faa43",
   "metadata": {},
   "source": [
    "# Inputs:\n",
    "\n",
    "    data.py = an API fetching data from the World Bank API: https://data.worldbank.org/indicator/NY.GDP.MKTP.CD with parameter \"country_code\" for the different countries asked in the task:\n",
    "\n",
    "    - United Kingdom = GB\n",
    "    - United States of America = US\n",
    "    - Brazil = BR\n",
    "    - Japan = JP\n",
    "    - China = CN\n",
    "    - Germany = DE\n",
    "    - Switzerland = CH"
   ]
  },
  {
   "cell_type": "markdown",
   "id": "8e6ab7ef",
   "metadata": {},
   "source": [
    "# Cleaning the data\n",
    "\n",
    "Keeping it simple for this problem set:\n",
    "- [x] Select the useful columns (reduce the noise)\n",
    "- [x] Rename them but include the mapping\n",
    "- [x] Make sure the column types are correct\n",
    "- [x] Remove missing values"
   ]
  },
  {
   "cell_type": "code",
   "execution_count": 1,
   "id": "0e08046f",
   "metadata": {},
   "outputs": [
    {
     "name": "stdout",
     "output_type": "stream",
     "text": [
      "Fetched data:\n",
      "  countryiso3code  date         value unit obs_status  decimal  \\\n",
      "0             GBR  2022  3.114042e+12                        0   \n",
      "1             GBR  2021  3.143323e+12                        0   \n",
      "2             GBR  2020  2.696778e+12                        0   \n",
      "3             GBR  2019  2.851407e+12                        0   \n",
      "4             GBR  2018  2.871340e+12                        0   \n",
      "\n",
      "     indicator.id    indicator.value country.id   country.value  \n",
      "0  NY.GDP.MKTP.CD  GDP (current US$)         GB  United Kingdom  \n",
      "1  NY.GDP.MKTP.CD  GDP (current US$)         GB  United Kingdom  \n",
      "2  NY.GDP.MKTP.CD  GDP (current US$)         GB  United Kingdom  \n",
      "3  NY.GDP.MKTP.CD  GDP (current US$)         GB  United Kingdom  \n",
      "4  NY.GDP.MKTP.CD  GDP (current US$)         GB  United Kingdom  \n",
      "Cleaned data:\n",
      "   Year           GDP         Country\n",
      "0  2022  3.114042e+12  United Kingdom\n",
      "1  2021  3.143323e+12  United Kingdom\n",
      "2  2020  2.696778e+12  United Kingdom\n",
      "3  2019  2.851407e+12  United Kingdom\n",
      "4  2018  2.871340e+12  United Kingdom\n",
      "Fetched data:\n",
      "  countryiso3code  date           value unit obs_status  decimal  \\\n",
      "0             USA  2022  26006893000000                        0   \n",
      "1             USA  2021  23681171000000                        0   \n",
      "2             USA  2020  21354105000000                        0   \n",
      "3             USA  2019  21539982000000                        0   \n",
      "4             USA  2018  20656516000000                        0   \n",
      "\n",
      "     indicator.id    indicator.value country.id  country.value  \n",
      "0  NY.GDP.MKTP.CD  GDP (current US$)         US  United States  \n",
      "1  NY.GDP.MKTP.CD  GDP (current US$)         US  United States  \n",
      "2  NY.GDP.MKTP.CD  GDP (current US$)         US  United States  \n",
      "3  NY.GDP.MKTP.CD  GDP (current US$)         US  United States  \n",
      "4  NY.GDP.MKTP.CD  GDP (current US$)         US  United States  \n",
      "Cleaned data:\n",
      "   Year             GDP        Country\n",
      "0  2022  26006893000000  United States\n",
      "1  2021  23681171000000  United States\n",
      "2  2020  21354105000000  United States\n",
      "3  2019  21539982000000  United States\n",
      "4  2018  20656516000000  United States\n",
      "Fetched data:\n",
      "  countryiso3code  date         value unit obs_status  decimal  \\\n",
      "0             BRA  2022  1.951924e+12                        0   \n",
      "1             BRA  2021  1.670647e+12                        0   \n",
      "2             BRA  2020  1.476107e+12                        0   \n",
      "3             BRA  2019  1.873288e+12                        0   \n",
      "4             BRA  2018  1.916934e+12                        0   \n",
      "\n",
      "     indicator.id    indicator.value country.id country.value  \n",
      "0  NY.GDP.MKTP.CD  GDP (current US$)         BR        Brazil  \n",
      "1  NY.GDP.MKTP.CD  GDP (current US$)         BR        Brazil  \n",
      "2  NY.GDP.MKTP.CD  GDP (current US$)         BR        Brazil  \n",
      "3  NY.GDP.MKTP.CD  GDP (current US$)         BR        Brazil  \n",
      "4  NY.GDP.MKTP.CD  GDP (current US$)         BR        Brazil  \n",
      "Cleaned data:\n",
      "   Year           GDP Country\n",
      "0  2022  1.951924e+12  Brazil\n",
      "1  2021  1.670647e+12  Brazil\n",
      "2  2020  1.476107e+12  Brazil\n",
      "3  2019  1.873288e+12  Brazil\n",
      "4  2018  1.916934e+12  Brazil\n",
      "Fetched data:\n",
      "  countryiso3code  date         value unit obs_status  decimal  \\\n",
      "0             JPN  2022  4.262463e+12                        0   \n",
      "1             JPN  2021  5.039148e+12                        0   \n",
      "2             JPN  2020  5.054068e+12                        0   \n",
      "3             JPN  2019  5.117994e+12                        0   \n",
      "4             JPN  2018  5.040881e+12                        0   \n",
      "\n",
      "     indicator.id    indicator.value country.id country.value  \n",
      "0  NY.GDP.MKTP.CD  GDP (current US$)         JP         Japan  \n",
      "1  NY.GDP.MKTP.CD  GDP (current US$)         JP         Japan  \n",
      "2  NY.GDP.MKTP.CD  GDP (current US$)         JP         Japan  \n",
      "3  NY.GDP.MKTP.CD  GDP (current US$)         JP         Japan  \n",
      "4  NY.GDP.MKTP.CD  GDP (current US$)         JP         Japan  \n",
      "Cleaned data:\n",
      "   Year           GDP Country\n",
      "0  2022  4.262463e+12   Japan\n",
      "1  2021  5.039148e+12   Japan\n",
      "2  2020  5.054068e+12   Japan\n",
      "3  2019  5.117994e+12   Japan\n",
      "4  2018  5.040881e+12   Japan\n",
      "Fetched data:\n",
      "  countryiso3code  date         value unit obs_status  decimal  \\\n",
      "0             CHN  2022  1.831677e+13                        0   \n",
      "1             CHN  2021  1.820170e+13                        0   \n",
      "2             CHN  2020  1.499641e+13                        0   \n",
      "3             CHN  2019  1.456017e+13                        0   \n",
      "4             CHN  2018  1.414777e+13                        0   \n",
      "\n",
      "     indicator.id    indicator.value country.id country.value  \n",
      "0  NY.GDP.MKTP.CD  GDP (current US$)         CN         China  \n",
      "1  NY.GDP.MKTP.CD  GDP (current US$)         CN         China  \n",
      "2  NY.GDP.MKTP.CD  GDP (current US$)         CN         China  \n",
      "3  NY.GDP.MKTP.CD  GDP (current US$)         CN         China  \n",
      "4  NY.GDP.MKTP.CD  GDP (current US$)         CN         China  \n",
      "Cleaned data:\n",
      "   Year           GDP Country\n",
      "0  2022  1.831677e+13   China\n",
      "1  2021  1.820170e+13   China\n",
      "2  2020  1.499641e+13   China\n",
      "3  2019  1.456017e+13   China\n",
      "4  2018  1.414777e+13   China\n",
      "Fetched data:\n",
      "  countryiso3code  date         value unit obs_status  decimal  \\\n",
      "0             DEU  2022  4.163596e+12                        0   \n",
      "1             DEU  2021  4.348297e+12                        0   \n",
      "2             DEU  2020  3.940143e+12                        0   \n",
      "3             DEU  2019  3.957208e+12                        0   \n",
      "4             DEU  2018  4.052008e+12                        0   \n",
      "\n",
      "     indicator.id    indicator.value country.id country.value  \n",
      "0  NY.GDP.MKTP.CD  GDP (current US$)         DE       Germany  \n",
      "1  NY.GDP.MKTP.CD  GDP (current US$)         DE       Germany  \n",
      "2  NY.GDP.MKTP.CD  GDP (current US$)         DE       Germany  \n",
      "3  NY.GDP.MKTP.CD  GDP (current US$)         DE       Germany  \n",
      "4  NY.GDP.MKTP.CD  GDP (current US$)         DE       Germany  \n",
      "Cleaned data:\n",
      "   Year           GDP  Country\n",
      "0  2022  4.163596e+12  Germany\n",
      "1  2021  4.348297e+12  Germany\n",
      "2  2020  3.940143e+12  Germany\n",
      "3  2019  3.957208e+12  Germany\n",
      "4  2018  4.052008e+12  Germany\n",
      "Fetched data:\n",
      "  countryiso3code  date         value unit obs_status  decimal  \\\n",
      "0             CHE  2022  8.285089e+11                        0   \n",
      "1             CHE  2021  8.153093e+11                        0   \n",
      "2             CHE  2020  7.419994e+11                        0   \n",
      "3             CHE  2019  7.213691e+11                        0   \n",
      "4             CHE  2018  7.255687e+11                        0   \n",
      "\n",
      "     indicator.id    indicator.value country.id country.value  \n",
      "0  NY.GDP.MKTP.CD  GDP (current US$)         CH   Switzerland  \n",
      "1  NY.GDP.MKTP.CD  GDP (current US$)         CH   Switzerland  \n",
      "2  NY.GDP.MKTP.CD  GDP (current US$)         CH   Switzerland  \n",
      "3  NY.GDP.MKTP.CD  GDP (current US$)         CH   Switzerland  \n",
      "4  NY.GDP.MKTP.CD  GDP (current US$)         CH   Switzerland  \n",
      "Cleaned data:\n",
      "   Year           GDP      Country\n",
      "0  2022  8.285089e+11  Switzerland\n",
      "1  2021  8.153093e+11  Switzerland\n",
      "2  2020  7.419994e+11  Switzerland\n",
      "3  2019  7.213691e+11  Switzerland\n",
      "4  2018  7.255687e+11  Switzerland\n"
     ]
    }
   ],
   "source": [
    "import data\n",
    "\n",
    "df_GB = data.clean_data(data.fetch_data(\"GB\"))\n",
    "df_US = data.clean_data(data.fetch_data(\"US\"))\n",
    "df_BR = data.clean_data(data.fetch_data(\"BR\"))\n",
    "df_JP = data.clean_data(data.fetch_data(\"JP\"))\n",
    "df_CN = data.clean_data(data.fetch_data(\"CN\"))\n",
    "df_DE = data.clean_data(data.fetch_data(\"DE\"))\n",
    "df_CH = data.clean_data(data.fetch_data(\"CH\"))"
   ]
  },
  {
   "cell_type": "markdown",
   "id": "70eaa172",
   "metadata": {},
   "source": [
    "# Plot the data\n",
    "\n"
   ]
  },
  {
   "cell_type": "code",
   "execution_count": 2,
   "id": "8fcd7096",
   "metadata": {},
   "outputs": [
    {
     "data": {
      "application/vnd.plotly.v1+json": {
       "config": {
        "plotlyServerURL": "https://plot.ly"
       },
       "data": [
        {
         "hovertemplate": "Year=%{x}<br>GDP=%{y}<extra></extra>",
         "legendgroup": "",
         "line": {
          "color": "#636efa",
          "dash": "solid",
          "width": 3
         },
         "marker": {
          "symbol": "circle"
         },
         "mode": "lines",
         "name": "",
         "orientation": "v",
         "showlegend": false,
         "type": "scatter",
         "x": {
          "bdata": "5gflB+QH4wfiB+EH4AffB94H3QfcB9sH2gfZB9gH1wfWB9UH1AfTB9IH0QfQBw==",
          "dtype": "i2"
         },
         "xaxis": "x",
         "y": {
          "bdata": "H0OXKVuohkIUmhY75d6GQjN9ZSQkn4NCe16v4yi/hEJS7oXFSeSEQmZ6Sy4qgINC4Zz37tmQg0LXpfHTqE2FQnGLi8V2TIZCUjJSoTFDhEIfteT4WLKDQo9gspq5YYNCrsU6dZIVgkIAvJLFQ46BQgoPj2F0UIVCCo1lGoZ8hkKuBViW3bSDQgAAWLkKgYJCM5uII3GegULDbVtQUuV9QmYyysFc/HlCKfBE4xUCeEL2tMDVmTx4Qg==",
          "dtype": "f8"
         },
         "yaxis": "y"
        }
       ],
       "layout": {
        "legend": {
         "tracegroupgap": 0
        },
        "template": {
         "data": {
          "bar": [
           {
            "error_x": {
             "color": "#2a3f5f"
            },
            "error_y": {
             "color": "#2a3f5f"
            },
            "marker": {
             "line": {
              "color": "#E5ECF6",
              "width": 0.5
             },
             "pattern": {
              "fillmode": "overlay",
              "size": 10,
              "solidity": 0.2
             }
            },
            "type": "bar"
           }
          ],
          "barpolar": [
           {
            "marker": {
             "line": {
              "color": "#E5ECF6",
              "width": 0.5
             },
             "pattern": {
              "fillmode": "overlay",
              "size": 10,
              "solidity": 0.2
             }
            },
            "type": "barpolar"
           }
          ],
          "carpet": [
           {
            "aaxis": {
             "endlinecolor": "#2a3f5f",
             "gridcolor": "white",
             "linecolor": "white",
             "minorgridcolor": "white",
             "startlinecolor": "#2a3f5f"
            },
            "baxis": {
             "endlinecolor": "#2a3f5f",
             "gridcolor": "white",
             "linecolor": "white",
             "minorgridcolor": "white",
             "startlinecolor": "#2a3f5f"
            },
            "type": "carpet"
           }
          ],
          "choropleth": [
           {
            "colorbar": {
             "outlinewidth": 0,
             "ticks": ""
            },
            "type": "choropleth"
           }
          ],
          "contour": [
           {
            "colorbar": {
             "outlinewidth": 0,
             "ticks": ""
            },
            "colorscale": [
             [
              0,
              "#0d0887"
             ],
             [
              0.1111111111111111,
              "#46039f"
             ],
             [
              0.2222222222222222,
              "#7201a8"
             ],
             [
              0.3333333333333333,
              "#9c179e"
             ],
             [
              0.4444444444444444,
              "#bd3786"
             ],
             [
              0.5555555555555556,
              "#d8576b"
             ],
             [
              0.6666666666666666,
              "#ed7953"
             ],
             [
              0.7777777777777778,
              "#fb9f3a"
             ],
             [
              0.8888888888888888,
              "#fdca26"
             ],
             [
              1,
              "#f0f921"
             ]
            ],
            "type": "contour"
           }
          ],
          "contourcarpet": [
           {
            "colorbar": {
             "outlinewidth": 0,
             "ticks": ""
            },
            "type": "contourcarpet"
           }
          ],
          "heatmap": [
           {
            "colorbar": {
             "outlinewidth": 0,
             "ticks": ""
            },
            "colorscale": [
             [
              0,
              "#0d0887"
             ],
             [
              0.1111111111111111,
              "#46039f"
             ],
             [
              0.2222222222222222,
              "#7201a8"
             ],
             [
              0.3333333333333333,
              "#9c179e"
             ],
             [
              0.4444444444444444,
              "#bd3786"
             ],
             [
              0.5555555555555556,
              "#d8576b"
             ],
             [
              0.6666666666666666,
              "#ed7953"
             ],
             [
              0.7777777777777778,
              "#fb9f3a"
             ],
             [
              0.8888888888888888,
              "#fdca26"
             ],
             [
              1,
              "#f0f921"
             ]
            ],
            "type": "heatmap"
           }
          ],
          "histogram": [
           {
            "marker": {
             "pattern": {
              "fillmode": "overlay",
              "size": 10,
              "solidity": 0.2
             }
            },
            "type": "histogram"
           }
          ],
          "histogram2d": [
           {
            "colorbar": {
             "outlinewidth": 0,
             "ticks": ""
            },
            "colorscale": [
             [
              0,
              "#0d0887"
             ],
             [
              0.1111111111111111,
              "#46039f"
             ],
             [
              0.2222222222222222,
              "#7201a8"
             ],
             [
              0.3333333333333333,
              "#9c179e"
             ],
             [
              0.4444444444444444,
              "#bd3786"
             ],
             [
              0.5555555555555556,
              "#d8576b"
             ],
             [
              0.6666666666666666,
              "#ed7953"
             ],
             [
              0.7777777777777778,
              "#fb9f3a"
             ],
             [
              0.8888888888888888,
              "#fdca26"
             ],
             [
              1,
              "#f0f921"
             ]
            ],
            "type": "histogram2d"
           }
          ],
          "histogram2dcontour": [
           {
            "colorbar": {
             "outlinewidth": 0,
             "ticks": ""
            },
            "colorscale": [
             [
              0,
              "#0d0887"
             ],
             [
              0.1111111111111111,
              "#46039f"
             ],
             [
              0.2222222222222222,
              "#7201a8"
             ],
             [
              0.3333333333333333,
              "#9c179e"
             ],
             [
              0.4444444444444444,
              "#bd3786"
             ],
             [
              0.5555555555555556,
              "#d8576b"
             ],
             [
              0.6666666666666666,
              "#ed7953"
             ],
             [
              0.7777777777777778,
              "#fb9f3a"
             ],
             [
              0.8888888888888888,
              "#fdca26"
             ],
             [
              1,
              "#f0f921"
             ]
            ],
            "type": "histogram2dcontour"
           }
          ],
          "mesh3d": [
           {
            "colorbar": {
             "outlinewidth": 0,
             "ticks": ""
            },
            "type": "mesh3d"
           }
          ],
          "parcoords": [
           {
            "line": {
             "colorbar": {
              "outlinewidth": 0,
              "ticks": ""
             }
            },
            "type": "parcoords"
           }
          ],
          "pie": [
           {
            "automargin": true,
            "type": "pie"
           }
          ],
          "scatter": [
           {
            "fillpattern": {
             "fillmode": "overlay",
             "size": 10,
             "solidity": 0.2
            },
            "type": "scatter"
           }
          ],
          "scatter3d": [
           {
            "line": {
             "colorbar": {
              "outlinewidth": 0,
              "ticks": ""
             }
            },
            "marker": {
             "colorbar": {
              "outlinewidth": 0,
              "ticks": ""
             }
            },
            "type": "scatter3d"
           }
          ],
          "scattercarpet": [
           {
            "marker": {
             "colorbar": {
              "outlinewidth": 0,
              "ticks": ""
             }
            },
            "type": "scattercarpet"
           }
          ],
          "scattergeo": [
           {
            "marker": {
             "colorbar": {
              "outlinewidth": 0,
              "ticks": ""
             }
            },
            "type": "scattergeo"
           }
          ],
          "scattergl": [
           {
            "marker": {
             "colorbar": {
              "outlinewidth": 0,
              "ticks": ""
             }
            },
            "type": "scattergl"
           }
          ],
          "scattermap": [
           {
            "marker": {
             "colorbar": {
              "outlinewidth": 0,
              "ticks": ""
             }
            },
            "type": "scattermap"
           }
          ],
          "scattermapbox": [
           {
            "marker": {
             "colorbar": {
              "outlinewidth": 0,
              "ticks": ""
             }
            },
            "type": "scattermapbox"
           }
          ],
          "scatterpolar": [
           {
            "marker": {
             "colorbar": {
              "outlinewidth": 0,
              "ticks": ""
             }
            },
            "type": "scatterpolar"
           }
          ],
          "scatterpolargl": [
           {
            "marker": {
             "colorbar": {
              "outlinewidth": 0,
              "ticks": ""
             }
            },
            "type": "scatterpolargl"
           }
          ],
          "scatterternary": [
           {
            "marker": {
             "colorbar": {
              "outlinewidth": 0,
              "ticks": ""
             }
            },
            "type": "scatterternary"
           }
          ],
          "surface": [
           {
            "colorbar": {
             "outlinewidth": 0,
             "ticks": ""
            },
            "colorscale": [
             [
              0,
              "#0d0887"
             ],
             [
              0.1111111111111111,
              "#46039f"
             ],
             [
              0.2222222222222222,
              "#7201a8"
             ],
             [
              0.3333333333333333,
              "#9c179e"
             ],
             [
              0.4444444444444444,
              "#bd3786"
             ],
             [
              0.5555555555555556,
              "#d8576b"
             ],
             [
              0.6666666666666666,
              "#ed7953"
             ],
             [
              0.7777777777777778,
              "#fb9f3a"
             ],
             [
              0.8888888888888888,
              "#fdca26"
             ],
             [
              1,
              "#f0f921"
             ]
            ],
            "type": "surface"
           }
          ],
          "table": [
           {
            "cells": {
             "fill": {
              "color": "#EBF0F8"
             },
             "line": {
              "color": "white"
             }
            },
            "header": {
             "fill": {
              "color": "#C8D4E3"
             },
             "line": {
              "color": "white"
             }
            },
            "type": "table"
           }
          ]
         },
         "layout": {
          "annotationdefaults": {
           "arrowcolor": "#2a3f5f",
           "arrowhead": 0,
           "arrowwidth": 1
          },
          "autotypenumbers": "strict",
          "coloraxis": {
           "colorbar": {
            "outlinewidth": 0,
            "ticks": ""
           }
          },
          "colorscale": {
           "diverging": [
            [
             0,
             "#8e0152"
            ],
            [
             0.1,
             "#c51b7d"
            ],
            [
             0.2,
             "#de77ae"
            ],
            [
             0.3,
             "#f1b6da"
            ],
            [
             0.4,
             "#fde0ef"
            ],
            [
             0.5,
             "#f7f7f7"
            ],
            [
             0.6,
             "#e6f5d0"
            ],
            [
             0.7,
             "#b8e186"
            ],
            [
             0.8,
             "#7fbc41"
            ],
            [
             0.9,
             "#4d9221"
            ],
            [
             1,
             "#276419"
            ]
           ],
           "sequential": [
            [
             0,
             "#0d0887"
            ],
            [
             0.1111111111111111,
             "#46039f"
            ],
            [
             0.2222222222222222,
             "#7201a8"
            ],
            [
             0.3333333333333333,
             "#9c179e"
            ],
            [
             0.4444444444444444,
             "#bd3786"
            ],
            [
             0.5555555555555556,
             "#d8576b"
            ],
            [
             0.6666666666666666,
             "#ed7953"
            ],
            [
             0.7777777777777778,
             "#fb9f3a"
            ],
            [
             0.8888888888888888,
             "#fdca26"
            ],
            [
             1,
             "#f0f921"
            ]
           ],
           "sequentialminus": [
            [
             0,
             "#0d0887"
            ],
            [
             0.1111111111111111,
             "#46039f"
            ],
            [
             0.2222222222222222,
             "#7201a8"
            ],
            [
             0.3333333333333333,
             "#9c179e"
            ],
            [
             0.4444444444444444,
             "#bd3786"
            ],
            [
             0.5555555555555556,
             "#d8576b"
            ],
            [
             0.6666666666666666,
             "#ed7953"
            ],
            [
             0.7777777777777778,
             "#fb9f3a"
            ],
            [
             0.8888888888888888,
             "#fdca26"
            ],
            [
             1,
             "#f0f921"
            ]
           ]
          },
          "colorway": [
           "#636efa",
           "#EF553B",
           "#00cc96",
           "#ab63fa",
           "#FFA15A",
           "#19d3f3",
           "#FF6692",
           "#B6E880",
           "#FF97FF",
           "#FECB52"
          ],
          "font": {
           "color": "#2a3f5f"
          },
          "geo": {
           "bgcolor": "white",
           "lakecolor": "white",
           "landcolor": "#E5ECF6",
           "showlakes": true,
           "showland": true,
           "subunitcolor": "white"
          },
          "hoverlabel": {
           "align": "left"
          },
          "hovermode": "closest",
          "mapbox": {
           "style": "light"
          },
          "paper_bgcolor": "white",
          "plot_bgcolor": "#E5ECF6",
          "polar": {
           "angularaxis": {
            "gridcolor": "white",
            "linecolor": "white",
            "ticks": ""
           },
           "bgcolor": "#E5ECF6",
           "radialaxis": {
            "gridcolor": "white",
            "linecolor": "white",
            "ticks": ""
           }
          },
          "scene": {
           "xaxis": {
            "backgroundcolor": "#E5ECF6",
            "gridcolor": "white",
            "gridwidth": 2,
            "linecolor": "white",
            "showbackground": true,
            "ticks": "",
            "zerolinecolor": "white"
           },
           "yaxis": {
            "backgroundcolor": "#E5ECF6",
            "gridcolor": "white",
            "gridwidth": 2,
            "linecolor": "white",
            "showbackground": true,
            "ticks": "",
            "zerolinecolor": "white"
           },
           "zaxis": {
            "backgroundcolor": "#E5ECF6",
            "gridcolor": "white",
            "gridwidth": 2,
            "linecolor": "white",
            "showbackground": true,
            "ticks": "",
            "zerolinecolor": "white"
           }
          },
          "shapedefaults": {
           "line": {
            "color": "#2a3f5f"
           }
          },
          "ternary": {
           "aaxis": {
            "gridcolor": "white",
            "linecolor": "white",
            "ticks": ""
           },
           "baxis": {
            "gridcolor": "white",
            "linecolor": "white",
            "ticks": ""
           },
           "bgcolor": "#E5ECF6",
           "caxis": {
            "gridcolor": "white",
            "linecolor": "white",
            "ticks": ""
           }
          },
          "title": {
           "x": 0.05
          },
          "xaxis": {
           "automargin": true,
           "gridcolor": "white",
           "linecolor": "white",
           "ticks": "",
           "title": {
            "standoff": 15
           },
           "zerolinecolor": "white",
           "zerolinewidth": 2
          },
          "yaxis": {
           "automargin": true,
           "gridcolor": "white",
           "linecolor": "white",
           "ticks": "",
           "title": {
            "standoff": 15
           },
           "zerolinecolor": "white",
           "zerolinewidth": 2
          }
         }
        },
        "title": {
         "text": "GDP Between 2000 and 2022 for United Kingdom"
        },
        "xaxis": {
         "anchor": "y",
         "domain": [
          0,
          1
         ],
         "title": {
          "text": "Year"
         }
        },
        "yaxis": {
         "anchor": "x",
         "domain": [
          0,
          1
         ],
         "title": {
          "text": "GDP"
         }
        }
       }
      }
     },
     "metadata": {},
     "output_type": "display_data"
    }
   ],
   "source": [
    "from plot_utils import plot_single\n",
    "plot_single(df_GB, \"United Kingdom\")"
   ]
  },
  {
   "cell_type": "code",
   "execution_count": 3,
   "id": "075071f0",
   "metadata": {},
   "outputs": [
    {
     "data": {
      "application/vnd.plotly.v1+json": {
       "config": {
        "plotlyServerURL": "https://plot.ly"
       },
       "data": [
        {
         "hovertemplate": "Country=United Kingdom<br>Year=%{x}<br>GDP=%{y}<extra></extra>",
         "legendgroup": "United Kingdom",
         "line": {
          "color": "#636efa",
          "dash": "solid",
          "width": 3
         },
         "marker": {
          "symbol": "circle"
         },
         "mode": "lines",
         "name": "United Kingdom",
         "orientation": "v",
         "showlegend": true,
         "type": "scatter",
         "x": {
          "bdata": "5gflB+QH4wfiB+EH4AffB94H3QfcB9sH2gfZB9gH1wfWB9UH1AfTB9IH0QfQBw==",
          "dtype": "i2"
         },
         "xaxis": "x",
         "y": {
          "bdata": "H0OXKVuohkIUmhY75d6GQjN9ZSQkn4NCe16v4yi/hEJS7oXFSeSEQmZ6Sy4qgINC4Zz37tmQg0LXpfHTqE2FQnGLi8V2TIZCUjJSoTFDhEIfteT4WLKDQo9gspq5YYNCrsU6dZIVgkIAvJLFQ46BQgoPj2F0UIVCCo1lGoZ8hkKuBViW3bSDQgAAWLkKgYJCM5uII3GegULDbVtQUuV9QmYyysFc/HlCKfBE4xUCeEL2tMDVmTx4Qg==",
          "dtype": "f8"
         },
         "yaxis": "y"
        },
        {
         "hovertemplate": "Country=United States<br>Year=%{x}<br>GDP=%{y}<extra></extra>",
         "legendgroup": "United States",
         "line": {
          "color": "#EF553B",
          "dash": "solid",
          "width": 3
         },
         "marker": {
          "symbol": "circle"
         },
         "mode": "lines",
         "name": "United States",
         "orientation": "v",
         "showlegend": true,
         "type": "scatter",
         "x": {
          "bdata": "5gflB+QH4wfiB+EH4AffB94H3QfcB9sH2gfZB9gH1wfWB9UH1AfTB9IH0QfQBw==",
          "dtype": "i2"
         },
         "xaxis": "x",
         "y": {
          "bdata": "AEB1njOnt0IAwArJs4m1QgBA0Nfja7NCAIC/+SqXs0IAAGlMeMmyQgCAfV9M1rFCAEDOKFwasUIAwNAbpKOwQgCAhs+2A7BCAIBBOq60rkIAAFE32JCtQgAACvgwYKxCAIAxJLlfq0IAgMUU4FWqQgAAe8HA3apCAADKbxZUqkIAgIvVYSGpQgCAImnZt6dCAABmQRM5pkIAAOlD09akQgAAOjND4aNCAID4PJg/o0IAAIS0eKWiQg==",
          "dtype": "f8"
         },
         "yaxis": "y"
        },
        {
         "hovertemplate": "Country=Brazil<br>Year=%{x}<br>GDP=%{y}<extra></extra>",
         "legendgroup": "Brazil",
         "line": {
          "color": "#00cc96",
          "dash": "solid",
          "width": 3
         },
         "marker": {
          "symbol": "circle"
         },
         "mode": "lines",
         "name": "Brazil",
         "orientation": "v",
         "showlegend": true,
         "type": "scatter",
         "x": {
          "bdata": "5gflB+QH4wfiB+EH4AffB94H3QfcB9sH2gfZB9gH1wfWB9UH1AfTB9IH0QfQBw==",
          "dtype": "i2"
         },
         "xaxis": "x",
         "y": {
          "bdata": "HzUsu3tnfEJmjh+EpU94QtfnBI7tenVCCjsw2YpCe0LXr/GfIuV7QmZaRTwxB35CKVA2wXohekIA6I1+wzl6Qs32Sum83oFCril2Pfz9gUIUtkU42O+BQoVtzX/4CINCZmTO6UcSgELhVmOwC0J4QlKY/m+NrXhCuArmM6hUdEK4rhf8Oh5wQtvF4pUw82lC08n0RJh6Y0L4ex5fKj9gQsOtE6OKrF1CZN8tBTRMYELd8AVKeBNjQg==",
          "dtype": "f8"
         },
         "yaxis": "y"
        },
        {
         "hovertemplate": "Country=Japan<br>Year=%{x}<br>GDP=%{y}<extra></extra>",
         "legendgroup": "Japan",
         "line": {
          "color": "#ab63fa",
          "dash": "solid",
          "width": 3
         },
         "marker": {
          "symbol": "circle"
         },
         "mode": "lines",
         "name": "Japan",
         "orientation": "v",
         "showlegend": true,
         "type": "scatter",
         "x": {
          "bdata": "5gflB+QH4wfiB+EH4AffB94H3QfcB9sH2gfZB9gH1wfWB9UH1AfTB9IH0QfQBw==",
          "dtype": "i2"
         },
         "xaxis": "x",
         "y": {
          "bdata": "PSQ55XQDj0LhdNqLElWSQh8BaLb3YpJCCmKB0oCekkJx88Srr1aSQq79RD0z8JFC9mDStQk0kkK48NwMqiuQQimlr3Ku0JFCuLj24Fv2kkIfJIbfl9GWQmbVlxcSrZZCcdRGtY3zlEKPp/BuOT6TQjPdtS33k5JCPYsCtTmpkEKuZ7P7ob2QQjP3a4Gnk5FCPWL0wxHNkUIfFjN3K3GQQuGM9Wsob45C9laYF4nUj0Jc0oEcJROSQg==",
          "dtype": "f8"
         },
         "yaxis": "y"
        },
        {
         "hovertemplate": "Country=China<br>Year=%{x}<br>GDP=%{y}<extra></extra>",
         "legendgroup": "China",
         "line": {
          "color": "#FFA15A",
          "dash": "solid",
          "width": 3
         },
         "marker": {
          "symbol": "circle"
         },
         "mode": "lines",
         "name": "China",
         "orientation": "v",
         "showlegend": true,
         "type": "scatter",
         "x": {
          "bdata": "5gflB+QH4wfiB+EH4AffB94H3QfcB9sH2gfZB9gH1wfWB9UH1AfTB9IH0QfQBw==",
          "dtype": "i2"
         },
         "xaxis": "x",
         "y": {
          "bdata": "M/rFRbSosEIATFfJ6Y2wQjN27eA/R6tCzcYGLRt8qkKaR0UbEbypQs0VLoJBzqZCAMQDfqDWpELNGZfqCYWkQs0C6YO3aqNCe8Zl6/64oUL2lAfR+o2fQimt5HPh6JtCKVWzhEaHlkJSVt2YK+GSQs3nrhnO+pBCCl2HvBM5ikKkIusykk+EQmYgMJPG3IBCCkcoSrXffEKaPYFWB4F4QqQomKwErnVCUrgKmOe3c0LNMAKj185xQg==",
          "dtype": "f8"
         },
         "yaxis": "y"
        },
        {
         "hovertemplate": "Country=Germany<br>Year=%{x}<br>GDP=%{y}<extra></extra>",
         "legendgroup": "Germany",
         "line": {
          "color": "#19d3f3",
          "dash": "solid",
          "width": 3
         },
         "marker": {
          "symbol": "circle"
         },
         "mode": "lines",
         "name": "Germany",
         "orientation": "v",
         "showlegend": true,
         "type": "scatter",
         "x": {
          "bdata": "5gflB+QH4wfiB+EH4AffB94H3QfcB9sH2gfZB9gH1wfWB9UH1AfTB9IH0QfQBw==",
          "dtype": "i2"
         },
         "xaxis": "x",
         "y": {
          "bdata": "H7uHdE1LjkI9HGTLVaOPQs1QUV8Wq4xCcX3t19/KjEI9vGcxdHuNQppHmjhOYYtCZmSe66K9iUI9aKym5OiIQlIuFyHh2oxC4dKgCx21i0J7ija+mi2KQkgLAmJM1ItCFMBy3PA7iUI9+qNVolGJQgBE/bNqtotCSLfMr49ZiUKkNIg1MSqGQvYOkWJdDYVCPe5LGdvAhEIUaGyLRnGCQj0e3vXdl35CrhuUh1edfEKakb35kp98Qg==",
          "dtype": "f8"
         },
         "yaxis": "y"
        },
        {
         "hovertemplate": "Country=Switzerland<br>Year=%{x}<br>GDP=%{y}<extra></extra>",
         "legendgroup": "Switzerland",
         "line": {
          "color": "#FF6692",
          "dash": "solid",
          "width": 3
         },
         "marker": {
          "symbol": "circle"
         },
         "mode": "lines",
         "name": "Switzerland",
         "orientation": "v",
         "showlegend": true,
         "type": "scatter",
         "x": {
          "bdata": "5gflB+QH4wfiB+EH4AffB94H3QfcB9sH2gfZB9gH1wfWB9UH1AfTB9IH0QfQBw==",
          "dtype": "i2"
         },
         "xaxis": "x",
         "y": {
          "bdata": "k8x9Xt8caEICV0Ujh7pnQhC0do1TmGVCK9cSZJ7+ZEIIgFOA6B1lQnHBRlymO2RC0daEdzgFZEIZdLFflTNkQsWwwuUgJWVC+l4DPtyNZEKuv86rOvpjQqxMWz3I1WRCEnd9sMltYUKsiG8/NSFgQg7lm2Z5gmBCVLMSRJuQXEJ5IZGT3rRZQt8/VyLuWFhC8FemZsWCV0Kk8KrXVhNVQrSYV0rzAFJCd44MI2quUEIOjROkpEBQQg==",
          "dtype": "f8"
         },
         "yaxis": "y"
        }
       ],
       "layout": {
        "legend": {
         "title": {
          "text": "Country"
         },
         "tracegroupgap": 0
        },
        "template": {
         "data": {
          "bar": [
           {
            "error_x": {
             "color": "#2a3f5f"
            },
            "error_y": {
             "color": "#2a3f5f"
            },
            "marker": {
             "line": {
              "color": "#E5ECF6",
              "width": 0.5
             },
             "pattern": {
              "fillmode": "overlay",
              "size": 10,
              "solidity": 0.2
             }
            },
            "type": "bar"
           }
          ],
          "barpolar": [
           {
            "marker": {
             "line": {
              "color": "#E5ECF6",
              "width": 0.5
             },
             "pattern": {
              "fillmode": "overlay",
              "size": 10,
              "solidity": 0.2
             }
            },
            "type": "barpolar"
           }
          ],
          "carpet": [
           {
            "aaxis": {
             "endlinecolor": "#2a3f5f",
             "gridcolor": "white",
             "linecolor": "white",
             "minorgridcolor": "white",
             "startlinecolor": "#2a3f5f"
            },
            "baxis": {
             "endlinecolor": "#2a3f5f",
             "gridcolor": "white",
             "linecolor": "white",
             "minorgridcolor": "white",
             "startlinecolor": "#2a3f5f"
            },
            "type": "carpet"
           }
          ],
          "choropleth": [
           {
            "colorbar": {
             "outlinewidth": 0,
             "ticks": ""
            },
            "type": "choropleth"
           }
          ],
          "contour": [
           {
            "colorbar": {
             "outlinewidth": 0,
             "ticks": ""
            },
            "colorscale": [
             [
              0,
              "#0d0887"
             ],
             [
              0.1111111111111111,
              "#46039f"
             ],
             [
              0.2222222222222222,
              "#7201a8"
             ],
             [
              0.3333333333333333,
              "#9c179e"
             ],
             [
              0.4444444444444444,
              "#bd3786"
             ],
             [
              0.5555555555555556,
              "#d8576b"
             ],
             [
              0.6666666666666666,
              "#ed7953"
             ],
             [
              0.7777777777777778,
              "#fb9f3a"
             ],
             [
              0.8888888888888888,
              "#fdca26"
             ],
             [
              1,
              "#f0f921"
             ]
            ],
            "type": "contour"
           }
          ],
          "contourcarpet": [
           {
            "colorbar": {
             "outlinewidth": 0,
             "ticks": ""
            },
            "type": "contourcarpet"
           }
          ],
          "heatmap": [
           {
            "colorbar": {
             "outlinewidth": 0,
             "ticks": ""
            },
            "colorscale": [
             [
              0,
              "#0d0887"
             ],
             [
              0.1111111111111111,
              "#46039f"
             ],
             [
              0.2222222222222222,
              "#7201a8"
             ],
             [
              0.3333333333333333,
              "#9c179e"
             ],
             [
              0.4444444444444444,
              "#bd3786"
             ],
             [
              0.5555555555555556,
              "#d8576b"
             ],
             [
              0.6666666666666666,
              "#ed7953"
             ],
             [
              0.7777777777777778,
              "#fb9f3a"
             ],
             [
              0.8888888888888888,
              "#fdca26"
             ],
             [
              1,
              "#f0f921"
             ]
            ],
            "type": "heatmap"
           }
          ],
          "histogram": [
           {
            "marker": {
             "pattern": {
              "fillmode": "overlay",
              "size": 10,
              "solidity": 0.2
             }
            },
            "type": "histogram"
           }
          ],
          "histogram2d": [
           {
            "colorbar": {
             "outlinewidth": 0,
             "ticks": ""
            },
            "colorscale": [
             [
              0,
              "#0d0887"
             ],
             [
              0.1111111111111111,
              "#46039f"
             ],
             [
              0.2222222222222222,
              "#7201a8"
             ],
             [
              0.3333333333333333,
              "#9c179e"
             ],
             [
              0.4444444444444444,
              "#bd3786"
             ],
             [
              0.5555555555555556,
              "#d8576b"
             ],
             [
              0.6666666666666666,
              "#ed7953"
             ],
             [
              0.7777777777777778,
              "#fb9f3a"
             ],
             [
              0.8888888888888888,
              "#fdca26"
             ],
             [
              1,
              "#f0f921"
             ]
            ],
            "type": "histogram2d"
           }
          ],
          "histogram2dcontour": [
           {
            "colorbar": {
             "outlinewidth": 0,
             "ticks": ""
            },
            "colorscale": [
             [
              0,
              "#0d0887"
             ],
             [
              0.1111111111111111,
              "#46039f"
             ],
             [
              0.2222222222222222,
              "#7201a8"
             ],
             [
              0.3333333333333333,
              "#9c179e"
             ],
             [
              0.4444444444444444,
              "#bd3786"
             ],
             [
              0.5555555555555556,
              "#d8576b"
             ],
             [
              0.6666666666666666,
              "#ed7953"
             ],
             [
              0.7777777777777778,
              "#fb9f3a"
             ],
             [
              0.8888888888888888,
              "#fdca26"
             ],
             [
              1,
              "#f0f921"
             ]
            ],
            "type": "histogram2dcontour"
           }
          ],
          "mesh3d": [
           {
            "colorbar": {
             "outlinewidth": 0,
             "ticks": ""
            },
            "type": "mesh3d"
           }
          ],
          "parcoords": [
           {
            "line": {
             "colorbar": {
              "outlinewidth": 0,
              "ticks": ""
             }
            },
            "type": "parcoords"
           }
          ],
          "pie": [
           {
            "automargin": true,
            "type": "pie"
           }
          ],
          "scatter": [
           {
            "fillpattern": {
             "fillmode": "overlay",
             "size": 10,
             "solidity": 0.2
            },
            "type": "scatter"
           }
          ],
          "scatter3d": [
           {
            "line": {
             "colorbar": {
              "outlinewidth": 0,
              "ticks": ""
             }
            },
            "marker": {
             "colorbar": {
              "outlinewidth": 0,
              "ticks": ""
             }
            },
            "type": "scatter3d"
           }
          ],
          "scattercarpet": [
           {
            "marker": {
             "colorbar": {
              "outlinewidth": 0,
              "ticks": ""
             }
            },
            "type": "scattercarpet"
           }
          ],
          "scattergeo": [
           {
            "marker": {
             "colorbar": {
              "outlinewidth": 0,
              "ticks": ""
             }
            },
            "type": "scattergeo"
           }
          ],
          "scattergl": [
           {
            "marker": {
             "colorbar": {
              "outlinewidth": 0,
              "ticks": ""
             }
            },
            "type": "scattergl"
           }
          ],
          "scattermap": [
           {
            "marker": {
             "colorbar": {
              "outlinewidth": 0,
              "ticks": ""
             }
            },
            "type": "scattermap"
           }
          ],
          "scattermapbox": [
           {
            "marker": {
             "colorbar": {
              "outlinewidth": 0,
              "ticks": ""
             }
            },
            "type": "scattermapbox"
           }
          ],
          "scatterpolar": [
           {
            "marker": {
             "colorbar": {
              "outlinewidth": 0,
              "ticks": ""
             }
            },
            "type": "scatterpolar"
           }
          ],
          "scatterpolargl": [
           {
            "marker": {
             "colorbar": {
              "outlinewidth": 0,
              "ticks": ""
             }
            },
            "type": "scatterpolargl"
           }
          ],
          "scatterternary": [
           {
            "marker": {
             "colorbar": {
              "outlinewidth": 0,
              "ticks": ""
             }
            },
            "type": "scatterternary"
           }
          ],
          "surface": [
           {
            "colorbar": {
             "outlinewidth": 0,
             "ticks": ""
            },
            "colorscale": [
             [
              0,
              "#0d0887"
             ],
             [
              0.1111111111111111,
              "#46039f"
             ],
             [
              0.2222222222222222,
              "#7201a8"
             ],
             [
              0.3333333333333333,
              "#9c179e"
             ],
             [
              0.4444444444444444,
              "#bd3786"
             ],
             [
              0.5555555555555556,
              "#d8576b"
             ],
             [
              0.6666666666666666,
              "#ed7953"
             ],
             [
              0.7777777777777778,
              "#fb9f3a"
             ],
             [
              0.8888888888888888,
              "#fdca26"
             ],
             [
              1,
              "#f0f921"
             ]
            ],
            "type": "surface"
           }
          ],
          "table": [
           {
            "cells": {
             "fill": {
              "color": "#EBF0F8"
             },
             "line": {
              "color": "white"
             }
            },
            "header": {
             "fill": {
              "color": "#C8D4E3"
             },
             "line": {
              "color": "white"
             }
            },
            "type": "table"
           }
          ]
         },
         "layout": {
          "annotationdefaults": {
           "arrowcolor": "#2a3f5f",
           "arrowhead": 0,
           "arrowwidth": 1
          },
          "autotypenumbers": "strict",
          "coloraxis": {
           "colorbar": {
            "outlinewidth": 0,
            "ticks": ""
           }
          },
          "colorscale": {
           "diverging": [
            [
             0,
             "#8e0152"
            ],
            [
             0.1,
             "#c51b7d"
            ],
            [
             0.2,
             "#de77ae"
            ],
            [
             0.3,
             "#f1b6da"
            ],
            [
             0.4,
             "#fde0ef"
            ],
            [
             0.5,
             "#f7f7f7"
            ],
            [
             0.6,
             "#e6f5d0"
            ],
            [
             0.7,
             "#b8e186"
            ],
            [
             0.8,
             "#7fbc41"
            ],
            [
             0.9,
             "#4d9221"
            ],
            [
             1,
             "#276419"
            ]
           ],
           "sequential": [
            [
             0,
             "#0d0887"
            ],
            [
             0.1111111111111111,
             "#46039f"
            ],
            [
             0.2222222222222222,
             "#7201a8"
            ],
            [
             0.3333333333333333,
             "#9c179e"
            ],
            [
             0.4444444444444444,
             "#bd3786"
            ],
            [
             0.5555555555555556,
             "#d8576b"
            ],
            [
             0.6666666666666666,
             "#ed7953"
            ],
            [
             0.7777777777777778,
             "#fb9f3a"
            ],
            [
             0.8888888888888888,
             "#fdca26"
            ],
            [
             1,
             "#f0f921"
            ]
           ],
           "sequentialminus": [
            [
             0,
             "#0d0887"
            ],
            [
             0.1111111111111111,
             "#46039f"
            ],
            [
             0.2222222222222222,
             "#7201a8"
            ],
            [
             0.3333333333333333,
             "#9c179e"
            ],
            [
             0.4444444444444444,
             "#bd3786"
            ],
            [
             0.5555555555555556,
             "#d8576b"
            ],
            [
             0.6666666666666666,
             "#ed7953"
            ],
            [
             0.7777777777777778,
             "#fb9f3a"
            ],
            [
             0.8888888888888888,
             "#fdca26"
            ],
            [
             1,
             "#f0f921"
            ]
           ]
          },
          "colorway": [
           "#636efa",
           "#EF553B",
           "#00cc96",
           "#ab63fa",
           "#FFA15A",
           "#19d3f3",
           "#FF6692",
           "#B6E880",
           "#FF97FF",
           "#FECB52"
          ],
          "font": {
           "color": "#2a3f5f"
          },
          "geo": {
           "bgcolor": "white",
           "lakecolor": "white",
           "landcolor": "#E5ECF6",
           "showlakes": true,
           "showland": true,
           "subunitcolor": "white"
          },
          "hoverlabel": {
           "align": "left"
          },
          "hovermode": "closest",
          "mapbox": {
           "style": "light"
          },
          "paper_bgcolor": "white",
          "plot_bgcolor": "#E5ECF6",
          "polar": {
           "angularaxis": {
            "gridcolor": "white",
            "linecolor": "white",
            "ticks": ""
           },
           "bgcolor": "#E5ECF6",
           "radialaxis": {
            "gridcolor": "white",
            "linecolor": "white",
            "ticks": ""
           }
          },
          "scene": {
           "xaxis": {
            "backgroundcolor": "#E5ECF6",
            "gridcolor": "white",
            "gridwidth": 2,
            "linecolor": "white",
            "showbackground": true,
            "ticks": "",
            "zerolinecolor": "white"
           },
           "yaxis": {
            "backgroundcolor": "#E5ECF6",
            "gridcolor": "white",
            "gridwidth": 2,
            "linecolor": "white",
            "showbackground": true,
            "ticks": "",
            "zerolinecolor": "white"
           },
           "zaxis": {
            "backgroundcolor": "#E5ECF6",
            "gridcolor": "white",
            "gridwidth": 2,
            "linecolor": "white",
            "showbackground": true,
            "ticks": "",
            "zerolinecolor": "white"
           }
          },
          "shapedefaults": {
           "line": {
            "color": "#2a3f5f"
           }
          },
          "ternary": {
           "aaxis": {
            "gridcolor": "white",
            "linecolor": "white",
            "ticks": ""
           },
           "baxis": {
            "gridcolor": "white",
            "linecolor": "white",
            "ticks": ""
           },
           "bgcolor": "#E5ECF6",
           "caxis": {
            "gridcolor": "white",
            "linecolor": "white",
            "ticks": ""
           }
          },
          "title": {
           "x": 0.05
          },
          "xaxis": {
           "automargin": true,
           "gridcolor": "white",
           "linecolor": "white",
           "ticks": "",
           "title": {
            "standoff": 15
           },
           "zerolinecolor": "white",
           "zerolinewidth": 2
          },
          "yaxis": {
           "automargin": true,
           "gridcolor": "white",
           "linecolor": "white",
           "ticks": "",
           "title": {
            "standoff": 15
           },
           "zerolinecolor": "white",
           "zerolinewidth": 2
          }
         }
        },
        "title": {
         "text": "GDP Comparison: 2000–2022"
        },
        "xaxis": {
         "anchor": "y",
         "domain": [
          0,
          1
         ],
         "title": {
          "text": "Year"
         }
        },
        "yaxis": {
         "anchor": "x",
         "domain": [
          0,
          1
         ],
         "title": {
          "text": "GDP"
         }
        }
       }
      }
     },
     "metadata": {},
     "output_type": "display_data"
    }
   ],
   "source": [
    "from plot_utils import plot_multiple_countries\n",
    "import pandas as pd\n",
    "df_all = pd.concat([df_GB, df_US, df_BR, df_JP, df_CN, df_DE, df_CH])\n",
    "plot_multiple_countries(df_all)"
   ]
  },
  {
   "cell_type": "markdown",
   "id": "0ede1db2",
   "metadata": {},
   "source": []
  }
 ],
 "metadata": {
  "kernelspec": {
   "display_name": "fed_enviro",
   "language": "python",
   "name": "python3"
  },
  "language_info": {
   "codemirror_mode": {
    "name": "ipython",
    "version": 3
   },
   "file_extension": ".py",
   "mimetype": "text/x-python",
   "name": "python",
   "nbconvert_exporter": "python",
   "pygments_lexer": "ipython3",
   "version": "3.12.4"
  }
 },
 "nbformat": 4,
 "nbformat_minor": 5
}
